{
 "cells": [
  {
   "cell_type": "markdown",
   "metadata": {},
   "source": [
    "DEG.csv也可以匯入成為node的資訊\n",
    "也可以試試看匯入correlation_matrix.csv\n",
    "\n",
    "顯示細節：http://manual.cytoscape.org/en/stable/Rendering_Engine.html\n",
    "\n",
    "Demo:\n",
    "* 用logFC當作node顏色或是node大小\n",
    "* 用pearson correlation值當作edge顏色或是edge粗細\n",
    "* 用network analyzer\n",
    "* 安裝clustermaker2:\n",
    "    * Network clustering: 用MCODE clustering\n",
    "    * Attribute clustering: 用pearson correlation"
   ]
  },
  {
   "cell_type": "code",
   "execution_count": 2,
   "metadata": {},
   "outputs": [],
   "source": [
    "import pandas as pd\n",
    "import numpy as np"
   ]
  },
  {
   "cell_type": "code",
   "execution_count": 15,
   "metadata": {},
   "outputs": [],
   "source": [
    "data = pd.read_csv(\"../rna-seq/GTEx_vs_TCGA_raw_counts.csv\", index_col=0)\n",
    "\n",
    "# Only use GBM samples\n",
    "data = data[data.types == \"GBM\"]\n",
    "data = data.iloc[:, :-1]\n",
    "\n",
    "# Only use genes with top 100 mean expression\n",
    "# data = data.loc[:, data.mean().sort_values()[-100:].index]\n",
    "\n",
    "# Select Top100 DEGs\n",
    "deg = pd.read_csv(\"DEG.csv\", index_col=0)\n",
    "genes = deg.index.tolist()\n",
    "data = data.loc[:, data.columns.isin(genes)]\n",
    "\n",
    "# # Normalize to CPM and log-transformation\n",
    "data = np.log2((data / data.sum()) * 1e6 + 1).dropna(axis=1)"
   ]
  },
  {
   "cell_type": "code",
   "execution_count": 16,
   "metadata": {},
   "outputs": [],
   "source": [
    "corr = data.corr(\"pearson\")"
   ]
  },
  {
   "cell_type": "code",
   "execution_count": 17,
   "metadata": {},
   "outputs": [
    {
     "data": {
      "text/html": [
       "<div>\n",
       "<style scoped>\n",
       "    .dataframe tbody tr th:only-of-type {\n",
       "        vertical-align: middle;\n",
       "    }\n",
       "\n",
       "    .dataframe tbody tr th {\n",
       "        vertical-align: top;\n",
       "    }\n",
       "\n",
       "    .dataframe thead th {\n",
       "        text-align: right;\n",
       "    }\n",
       "</style>\n",
       "<table border=\"1\" class=\"dataframe\">\n",
       "  <thead>\n",
       "    <tr style=\"text-align: right;\">\n",
       "      <th></th>\n",
       "      <th>CYP4Z1</th>\n",
       "      <th>GPR89C</th>\n",
       "      <th>HIST2H4A</th>\n",
       "      <th>SUMO1P3</th>\n",
       "      <th>ZBTB37</th>\n",
       "      <th>TNNT2</th>\n",
       "      <th>RBM34</th>\n",
       "      <th>EDARADD</th>\n",
       "      <th>C2orf74</th>\n",
       "      <th>MRPL30</th>\n",
       "      <th>...</th>\n",
       "      <th>CACNG8</th>\n",
       "      <th>ZCCHC3</th>\n",
       "      <th>P2RX6P</th>\n",
       "      <th>MIF</th>\n",
       "      <th>SSTR3</th>\n",
       "      <th>MAGED4B</th>\n",
       "      <th>MAGED4</th>\n",
       "      <th>RPL36A</th>\n",
       "      <th>FAM45B</th>\n",
       "      <th>PRRG3</th>\n",
       "    </tr>\n",
       "  </thead>\n",
       "  <tbody>\n",
       "    <tr>\n",
       "      <th>CYP4Z1</th>\n",
       "      <td>1.000000</td>\n",
       "      <td>0.078526</td>\n",
       "      <td>-0.077046</td>\n",
       "      <td>0.066479</td>\n",
       "      <td>0.108911</td>\n",
       "      <td>0.483178</td>\n",
       "      <td>0.087035</td>\n",
       "      <td>-0.016208</td>\n",
       "      <td>0.183141</td>\n",
       "      <td>0.068031</td>\n",
       "      <td>...</td>\n",
       "      <td>0.170357</td>\n",
       "      <td>0.049640</td>\n",
       "      <td>0.036492</td>\n",
       "      <td>0.005079</td>\n",
       "      <td>0.334767</td>\n",
       "      <td>0.036846</td>\n",
       "      <td>0.053851</td>\n",
       "      <td>0.118667</td>\n",
       "      <td>0.091158</td>\n",
       "      <td>0.239558</td>\n",
       "    </tr>\n",
       "    <tr>\n",
       "      <th>GPR89C</th>\n",
       "      <td>0.078526</td>\n",
       "      <td>1.000000</td>\n",
       "      <td>0.190479</td>\n",
       "      <td>0.453393</td>\n",
       "      <td>0.213195</td>\n",
       "      <td>0.060721</td>\n",
       "      <td>0.519603</td>\n",
       "      <td>0.350566</td>\n",
       "      <td>0.305362</td>\n",
       "      <td>0.508332</td>\n",
       "      <td>...</td>\n",
       "      <td>0.093702</td>\n",
       "      <td>0.417729</td>\n",
       "      <td>0.128385</td>\n",
       "      <td>0.241792</td>\n",
       "      <td>0.026675</td>\n",
       "      <td>0.291736</td>\n",
       "      <td>0.291665</td>\n",
       "      <td>0.368789</td>\n",
       "      <td>0.332923</td>\n",
       "      <td>0.076308</td>\n",
       "    </tr>\n",
       "    <tr>\n",
       "      <th>HIST2H4A</th>\n",
       "      <td>-0.077046</td>\n",
       "      <td>0.190479</td>\n",
       "      <td>1.000000</td>\n",
       "      <td>0.410623</td>\n",
       "      <td>0.255993</td>\n",
       "      <td>-0.083490</td>\n",
       "      <td>0.295990</td>\n",
       "      <td>0.188835</td>\n",
       "      <td>0.369818</td>\n",
       "      <td>0.329065</td>\n",
       "      <td>...</td>\n",
       "      <td>-0.176487</td>\n",
       "      <td>0.135914</td>\n",
       "      <td>0.084262</td>\n",
       "      <td>0.295933</td>\n",
       "      <td>-0.065087</td>\n",
       "      <td>0.043636</td>\n",
       "      <td>0.125632</td>\n",
       "      <td>0.163556</td>\n",
       "      <td>0.256743</td>\n",
       "      <td>0.021686</td>\n",
       "    </tr>\n",
       "    <tr>\n",
       "      <th>SUMO1P3</th>\n",
       "      <td>0.066479</td>\n",
       "      <td>0.453393</td>\n",
       "      <td>0.410623</td>\n",
       "      <td>1.000000</td>\n",
       "      <td>0.399124</td>\n",
       "      <td>0.105301</td>\n",
       "      <td>0.829968</td>\n",
       "      <td>0.401466</td>\n",
       "      <td>0.423572</td>\n",
       "      <td>0.815887</td>\n",
       "      <td>...</td>\n",
       "      <td>0.034511</td>\n",
       "      <td>0.503121</td>\n",
       "      <td>0.102779</td>\n",
       "      <td>0.472222</td>\n",
       "      <td>0.023395</td>\n",
       "      <td>0.233421</td>\n",
       "      <td>0.257943</td>\n",
       "      <td>0.433359</td>\n",
       "      <td>0.610715</td>\n",
       "      <td>0.102984</td>\n",
       "    </tr>\n",
       "    <tr>\n",
       "      <th>ZBTB37</th>\n",
       "      <td>0.108911</td>\n",
       "      <td>0.213195</td>\n",
       "      <td>0.255993</td>\n",
       "      <td>0.399124</td>\n",
       "      <td>1.000000</td>\n",
       "      <td>0.087558</td>\n",
       "      <td>0.465131</td>\n",
       "      <td>0.301810</td>\n",
       "      <td>0.162819</td>\n",
       "      <td>0.417913</td>\n",
       "      <td>...</td>\n",
       "      <td>0.319454</td>\n",
       "      <td>0.428504</td>\n",
       "      <td>-0.085268</td>\n",
       "      <td>0.134048</td>\n",
       "      <td>0.168158</td>\n",
       "      <td>0.383853</td>\n",
       "      <td>0.208058</td>\n",
       "      <td>0.201319</td>\n",
       "      <td>0.668006</td>\n",
       "      <td>0.208135</td>\n",
       "    </tr>\n",
       "  </tbody>\n",
       "</table>\n",
       "<p>5 rows × 98 columns</p>\n",
       "</div>"
      ],
      "text/plain": [
       "            CYP4Z1    GPR89C  HIST2H4A   SUMO1P3    ZBTB37     TNNT2  \\\n",
       "CYP4Z1    1.000000  0.078526 -0.077046  0.066479  0.108911  0.483178   \n",
       "GPR89C    0.078526  1.000000  0.190479  0.453393  0.213195  0.060721   \n",
       "HIST2H4A -0.077046  0.190479  1.000000  0.410623  0.255993 -0.083490   \n",
       "SUMO1P3   0.066479  0.453393  0.410623  1.000000  0.399124  0.105301   \n",
       "ZBTB37    0.108911  0.213195  0.255993  0.399124  1.000000  0.087558   \n",
       "\n",
       "             RBM34   EDARADD   C2orf74    MRPL30  ...    CACNG8    ZCCHC3  \\\n",
       "CYP4Z1    0.087035 -0.016208  0.183141  0.068031  ...  0.170357  0.049640   \n",
       "GPR89C    0.519603  0.350566  0.305362  0.508332  ...  0.093702  0.417729   \n",
       "HIST2H4A  0.295990  0.188835  0.369818  0.329065  ... -0.176487  0.135914   \n",
       "SUMO1P3   0.829968  0.401466  0.423572  0.815887  ...  0.034511  0.503121   \n",
       "ZBTB37    0.465131  0.301810  0.162819  0.417913  ...  0.319454  0.428504   \n",
       "\n",
       "            P2RX6P       MIF     SSTR3   MAGED4B    MAGED4    RPL36A  \\\n",
       "CYP4Z1    0.036492  0.005079  0.334767  0.036846  0.053851  0.118667   \n",
       "GPR89C    0.128385  0.241792  0.026675  0.291736  0.291665  0.368789   \n",
       "HIST2H4A  0.084262  0.295933 -0.065087  0.043636  0.125632  0.163556   \n",
       "SUMO1P3   0.102779  0.472222  0.023395  0.233421  0.257943  0.433359   \n",
       "ZBTB37   -0.085268  0.134048  0.168158  0.383853  0.208058  0.201319   \n",
       "\n",
       "            FAM45B     PRRG3  \n",
       "CYP4Z1    0.091158  0.239558  \n",
       "GPR89C    0.332923  0.076308  \n",
       "HIST2H4A  0.256743  0.021686  \n",
       "SUMO1P3   0.610715  0.102984  \n",
       "ZBTB37    0.668006  0.208135  \n",
       "\n",
       "[5 rows x 98 columns]"
      ]
     },
     "execution_count": 17,
     "metadata": {},
     "output_type": "execute_result"
    }
   ],
   "source": [
    "corr.head()"
   ]
  },
  {
   "cell_type": "code",
   "execution_count": 26,
   "metadata": {},
   "outputs": [],
   "source": [
    "corr.to_csv(\"correlation_matrix.csv\", index=True)"
   ]
  },
  {
   "cell_type": "code",
   "execution_count": 18,
   "metadata": {},
   "outputs": [],
   "source": [
    "from itertools import combinations\n",
    "colnames = list(combinations(corr.columns, 2))"
   ]
  },
  {
   "cell_type": "code",
   "execution_count": 19,
   "metadata": {},
   "outputs": [
    {
     "data": {
      "text/plain": [
       "4753"
      ]
     },
     "execution_count": 19,
     "metadata": {},
     "output_type": "execute_result"
    }
   ],
   "source": [
    "len(colnames)"
   ]
  },
  {
   "cell_type": "code",
   "execution_count": 20,
   "metadata": {},
   "outputs": [],
   "source": [
    "corr_list = pd.DataFrame(colnames)"
   ]
  },
  {
   "cell_type": "code",
   "execution_count": 21,
   "metadata": {},
   "outputs": [],
   "source": [
    "flatten = corr.values[np.triu_indices(corr.shape[0], k=1)]"
   ]
  },
  {
   "cell_type": "code",
   "execution_count": 22,
   "metadata": {},
   "outputs": [
    {
     "data": {
      "text/plain": [
       "(4753,)"
      ]
     },
     "execution_count": 22,
     "metadata": {},
     "output_type": "execute_result"
    }
   ],
   "source": [
    "flatten.shape"
   ]
  },
  {
   "cell_type": "code",
   "execution_count": 23,
   "metadata": {},
   "outputs": [],
   "source": [
    "corr_list[\"pearson_correlation\"] = flatten"
   ]
  },
  {
   "cell_type": "code",
   "execution_count": 24,
   "metadata": {},
   "outputs": [],
   "source": [
    "corr_list.columns = [\"Gene_i\", \"Gene_j\", \"pearson_correlation\"]"
   ]
  },
  {
   "cell_type": "code",
   "execution_count": 25,
   "metadata": {},
   "outputs": [],
   "source": [
    "corr_list.to_csv(\"correlation_list.csv\", index=False)"
   ]
  },
  {
   "cell_type": "markdown",
   "metadata": {},
   "source": [
    "# References\n",
    "\n",
    "* WGCNA: https://bmcbioinformatics.biomedcentral.com/articles/10.1186/1471-2105-9-559\n",
    "* Using RNA-seq data in WGCNA: https://www.biostars.org/p/280650/"
   ]
  }
 ],
 "metadata": {
  "kernelspec": {
   "display_name": "Python 3",
   "language": "python",
   "name": "python3"
  },
  "language_info": {
   "codemirror_mode": {
    "name": "ipython",
    "version": 3
   },
   "file_extension": ".py",
   "mimetype": "text/x-python",
   "name": "python",
   "nbconvert_exporter": "python",
   "pygments_lexer": "ipython3",
   "version": "3.8.2"
  }
 },
 "nbformat": 4,
 "nbformat_minor": 4
}
