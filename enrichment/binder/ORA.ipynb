{
 "cells": [
  {
   "cell_type": "code",
   "execution_count": 1,
   "metadata": {},
   "outputs": [],
   "source": [
    "from __future__ import print_function\n",
    "import pandas as pd\n",
    "import numpy as np\n",
    "\n",
    "from goatools.base import download_go_basic_obo, download_ncbi_associations\n",
    "from goatools.obo_parser import GODag\n",
    "from goatools.anno.genetogo_reader import Gene2GoReader"
   ]
  },
  {
   "cell_type": "markdown",
   "metadata": {},
   "source": [
    "## Load Ontologies, Associations and Background gene set "
   ]
  },
  {
   "cell_type": "markdown",
   "metadata": {},
   "source": [
    "### Ontologies\n",
    "\n",
    "下載下來之後，我們使用```goatools.obo_parser.GODag```把GO terms處理成 GO_ID: GOTerm 的形式。 "
   ]
  },
  {
   "cell_type": "code",
   "execution_count": 2,
   "metadata": {},
   "outputs": [
    {
     "name": "stdout",
     "output_type": "stream",
     "text": [
      "  EXISTS: go-basic.obo\n",
      "go-basic.obo: fmt(1.2) rel(2020-05-02) 47,240 GO Terms\n"
     ]
    }
   ],
   "source": [
    "# Get http://geneontology.org/ontology/go-basic.obo\n",
    "obo_fname = download_go_basic_obo()\n",
    "obodag = GODag(\"go-basic.obo\")"
   ]
  },
  {
   "cell_type": "markdown",
   "metadata": {},
   "source": [
    "### Associations\n",
    "\n",
    "下載之後，用```Gene2GoReader```把association處理成 NCBI GeneID: [GO_IDs]"
   ]
  },
  {
   "cell_type": "code",
   "execution_count": 3,
   "metadata": {},
   "outputs": [
    {
     "name": "stdout",
     "output_type": "stream",
     "text": [
      "  EXISTS: gene2go\n",
      "HMS:0:00:05.117067 336,356 annotations, 20,586 genes, 18,410 GOs, 1 taxids READ: gene2go \n",
      "MF 17,580 annotated genes\n",
      "CC 19,399 annotated genes\n",
      "BP 18,607 annotated genes\n"
     ]
    }
   ],
   "source": [
    "# Get ftp://ftp.ncbi.nlm.nih.gov/gene/DATA/gene2go.gz\n",
    "fin_gene2go = download_ncbi_associations()\n",
    "\n",
    "# Read NCBI's gene2go. Store annotations in a list of namedtuples\n",
    "objanno = Gene2GoReader(fin_gene2go, taxids=[9606])\n",
    "\n",
    "# Get namespace2association where:\n",
    "#    namespace is:\n",
    "#        BP: biological_process               \n",
    "#        MF: molecular_function\n",
    "#        CC: cellular_component\n",
    "#    assocation is a dict:\n",
    "#        key: NCBI GeneID\n",
    "#        value: A set of GO IDs associated with that gene\n",
    "ns2assoc = objanno.get_ns2assc()\n",
    "\n",
    "for nspc, id2gos in ns2assoc.items():\n",
    "    print(\"{NS} {N:,} annotated genes\".format(NS=nspc, N=len(id2gos)))"
   ]
  },
  {
   "cell_type": "markdown",
   "metadata": {},
   "source": [
    "### Background gene set\n",
    "\n",
    "```goatools```有可以直接load的函數"
   ]
  },
  {
   "cell_type": "code",
   "execution_count": 4,
   "metadata": {},
   "outputs": [],
   "source": [
    "from goatools.test_data.genes_NCBI_9606_ProteinCoding import GENEID2NT as GeneID2nt_human"
   ]
  },
  {
   "cell_type": "code",
   "execution_count": 5,
   "metadata": {},
   "outputs": [
    {
     "data": {
      "text/plain": [
       "20913"
      ]
     },
     "execution_count": 5,
     "metadata": {},
     "output_type": "execute_result"
    }
   ],
   "source": [
    "len(GeneID2nt_human.keys())"
   ]
  },
  {
   "cell_type": "markdown",
   "metadata": {},
   "source": [
    "### Our study genes\n",
    "\n",
    "整理成```{gene id: gene sybmol}```的形式。"
   ]
  },
  {
   "cell_type": "code",
   "execution_count": 6,
   "metadata": {},
   "outputs": [],
   "source": [
    "geneid2symbol = {}\n",
    "with open(\"over-represented_mutated_genes.txt\", \"r\") as f:\n",
    "    for line in f:\n",
    "        symbol, geneid = line.rstrip().split(\"\\t\")\n",
    "        if geneid != \"None\":\n",
    "            geneid2symbol[int(geneid)] = symbol"
   ]
  },
  {
   "cell_type": "markdown",
   "metadata": {},
   "source": [
    "-----"
   ]
  },
  {
   "cell_type": "markdown",
   "metadata": {},
   "source": [
    "## Run Gene Ontology Enrichment Analysis (GOEA)\n",
    "\n",
    "* 這個 GOEA 的物件包含 Ontologies, Associations, 和 background gene sets。初始化之後可以重複使用。"
   ]
  },
  {
   "cell_type": "code",
   "execution_count": 7,
   "metadata": {},
   "outputs": [
    {
     "name": "stdout",
     "output_type": "stream",
     "text": [
      "\n",
      "Load BP Gene Ontology Analysis ...\n",
      "fisher module not installed.  Falling back on scipy.stats.fisher_exact\n",
      " 81% 16,885 of 20,913 population items found in association\n",
      "\n",
      "Load CC Gene Ontology Analysis ...\n",
      "fisher module not installed.  Falling back on scipy.stats.fisher_exact\n",
      " 85% 17,850 of 20,913 population items found in association\n",
      "\n",
      "Load MF Gene Ontology Analysis ...\n",
      "fisher module not installed.  Falling back on scipy.stats.fisher_exact\n",
      " 80% 16,792 of 20,913 population items found in association\n"
     ]
    }
   ],
   "source": [
    "from goatools.goea.go_enrichment_ns import GOEnrichmentStudyNS\n",
    "\n",
    "goeaobj = GOEnrichmentStudyNS(\n",
    "    GeneID2nt_human.keys(), # List of human protein-coding genes\n",
    "    ns2assoc, # geneid/GO associations\n",
    "    obodag, # Ontologies\n",
    "    propagate_counts = False,\n",
    "    alpha = 0.05, # default significance cut-off\n",
    "    methods = ['fdr_bh']  # defult multipletest correction method\n",
    ")"
   ]
  },
  {
   "cell_type": "markdown",
   "metadata": {},
   "source": [
    "真的執行GSEA的演算法，並回傳結果。"
   ]
  },
  {
   "cell_type": "code",
   "execution_count": 8,
   "metadata": {},
   "outputs": [
    {
     "name": "stdout",
     "output_type": "stream",
     "text": [
      "\n",
      "Run BP Gene Ontology Analysis: current study set of 317 IDs ... 95%    300 of    317 study items found in association\n",
      "100%    317 of    317 study items found in population(20913)\n",
      "Calculating 12,291 uncorrected p-values using fisher_scipy_stats\n",
      "  12,291 GO terms are associated with 16,885 of 20,913 population items\n",
      "   1,904 GO terms are associated with    300 of    317 study items\n",
      "  METHOD fdr_bh:\n",
      "      36 GO terms found significant (< 0.05=alpha) ( 36 enriched +   0 purified): statsmodels fdr_bh\n",
      "     154 study items associated with significant GO IDs (enriched)\n",
      "       0 study items associated with significant GO IDs (purified)\n",
      "\n",
      "Run CC Gene Ontology Analysis: current study set of 317 IDs ... 97%    307 of    317 study items found in association\n",
      "100%    317 of    317 study items found in population(20913)\n",
      "Calculating 1,754 uncorrected p-values using fisher_scipy_stats\n",
      "   1,754 GO terms are associated with 17,850 of 20,913 population items\n",
      "     405 GO terms are associated with    307 of    317 study items\n",
      "  METHOD fdr_bh:\n",
      "      40 GO terms found significant (< 0.05=alpha) ( 40 enriched +   0 purified): statsmodels fdr_bh\n",
      "     237 study items associated with significant GO IDs (enriched)\n",
      "       0 study items associated with significant GO IDs (purified)\n",
      "\n",
      "Run MF Gene Ontology Analysis: current study set of 317 IDs ... 91%    287 of    317 study items found in association\n",
      "100%    317 of    317 study items found in population(20913)\n",
      "Calculating 4,209 uncorrected p-values using fisher_scipy_stats\n",
      "   4,209 GO terms are associated with 16,792 of 20,913 population items\n",
      "     421 GO terms are associated with    287 of    317 study items\n",
      "  METHOD fdr_bh:\n",
      "      16 GO terms found significant (< 0.05=alpha) ( 16 enriched +   0 purified): statsmodels fdr_bh\n",
      "     114 study items associated with significant GO IDs (enriched)\n",
      "       0 study items associated with significant GO IDs (purified)\n"
     ]
    }
   ],
   "source": [
    "geneids_study = geneid2symbol.keys()\n",
    "goea_results_all = goeaobj.run_study(geneids_study)\n",
    "goea_results_sig = [r for r in goea_results_all if r.p_fdr_bh < 0.05]"
   ]
  },
  {
   "cell_type": "code",
   "execution_count": 10,
   "metadata": {},
   "outputs": [
    {
     "name": "stdout",
     "output_type": "stream",
     "text": [
      "Significant results[92] = 36 BP + 16 MF + 40 CC\n"
     ]
    }
   ],
   "source": [
    "from collections import Counter\n",
    "\n",
    "ctr = Counter([r.NS for r in goea_results_sig])\n",
    "print('Significant results[{TOTAL}] = {BP} BP + {MF} MF + {CC} CC'.format(\n",
    "    TOTAL=len(goea_results_sig),\n",
    "    BP=ctr['BP'],  # biological_process\n",
    "    MF=ctr['MF'],  # molecular_function\n",
    "    CC=ctr['CC'])  # cellular_component\n",
    ")"
   ]
  },
  {
   "cell_type": "markdown",
   "metadata": {},
   "source": [
    "## Write results to a file"
   ]
  },
  {
   "cell_type": "code",
   "execution_count": 37,
   "metadata": {},
   "outputs": [
    {
     "name": "stdout",
     "output_type": "stream",
     "text": [
      "     92 items WROTE: ORA_results.xlsx\n",
      "     92 GOEA results for   248 study items. WROTE: ORA_results.txt\n"
     ]
    }
   ],
   "source": [
    "goeaobj.wr_xlsx(\"ORA_results.xlsx\", goea_results_sig)\n",
    "goeaobj.wr_txt(\"ORA_results.txt\", goea_results_sig)\n",
    "goeaobj.wr_tsv(\"ORA_results.tsv\", goea_results_sig)"
   ]
  },
  {
   "cell_type": "code",
   "execution_count": 12,
   "metadata": {},
   "outputs": [
    {
     "data": {
      "text/plain": [
       "(92, list)"
      ]
     },
     "execution_count": 12,
     "metadata": {},
     "output_type": "execute_result"
    }
   ],
   "source": [
    "len(goea_results_sig), type(goea_results_sig)"
   ]
  },
  {
   "cell_type": "markdown",
   "metadata": {},
   "source": [
    "## Manual Over-representation Analysis\n",
    "\n",
    "* 為了了解ORA背後的實際在做什麼，從源頭練習一次學最快~\n",
    "\n",
    "利用上面讀取的 gene id: GO Term 轉換成 GO Term: GO ID"
   ]
  },
  {
   "cell_type": "code",
   "execution_count": 13,
   "metadata": {},
   "outputs": [],
   "source": [
    "\n",
    "bp_term2id = {}\n",
    "\n",
    "for idx, terms in ns2assoc[\"BP\"].items():\n",
    "    for t in terms:\n",
    "        if t in bp_term2id:\n",
    "            bp_term2id[t].append(idx)\n",
    "        else:\n",
    "            bp_term2id[t] = [idx]"
   ]
  },
  {
   "cell_type": "markdown",
   "metadata": {},
   "source": [
    "使用單一一個Gene Set"
   ]
  },
  {
   "cell_type": "code",
   "execution_count": 14,
   "metadata": {},
   "outputs": [],
   "source": [
    "target_term = \"GO:0007155\""
   ]
  },
  {
   "cell_type": "code",
   "execution_count": 15,
   "metadata": {},
   "outputs": [],
   "source": [
    "gene_id_in_term = [idx for idx, terms in ns2assoc[\"BP\"].items() if target_term in terms]"
   ]
  },
  {
   "cell_type": "code",
   "execution_count": 16,
   "metadata": {},
   "outputs": [],
   "source": [
    "query_list = list(geneid2symbol.keys())"
   ]
  },
  {
   "cell_type": "code",
   "execution_count": 17,
   "metadata": {},
   "outputs": [],
   "source": [
    "k = len(set(gene_id_in_term).intersection(set(query_list)))\n",
    "m = len(query_list)  # Query set\n",
    "n = len(gene_id_in_term)  # Target Gene set\n",
    "N = len(GeneID2nt_human.keys())  # Background set"
   ]
  },
  {
   "cell_type": "code",
   "execution_count": 18,
   "metadata": {},
   "outputs": [],
   "source": [
    "from scipy.stats import fisher_exact\n",
    "\n",
    "table = np.array([\n",
    "    [k, n - k],\n",
    "    [m - k, N + k - n - m]\n",
    "])\n",
    "\n",
    "oddsratio, pval = fisher_exact(table)"
   ]
  },
  {
   "cell_type": "code",
   "execution_count": 19,
   "metadata": {},
   "outputs": [
    {
     "data": {
      "text/plain": [
       "1.2873180658437553e-14"
      ]
     },
     "execution_count": 19,
     "metadata": {},
     "output_type": "execute_result"
    }
   ],
   "source": [
    "pval"
   ]
  },
  {
   "cell_type": "markdown",
   "metadata": {},
   "source": [
    "如果要對每個Gene Set都做，這時候就可以自己定義一個函數"
   ]
  },
  {
   "cell_type": "code",
   "execution_count": 20,
   "metadata": {},
   "outputs": [],
   "source": [
    "def manual_ORA(query_set, gene_set):\n",
    "\n",
    "    k = len(gene_set.intersection(query_set))\n",
    "    m = len(query_set)  # Query set\n",
    "    n = len(gene_set)  # Target Gene set\n",
    "    N = len(GeneID2nt_human.keys())  # Background set\n",
    "\n",
    "    table = np.array([\n",
    "        [k, n - k],\n",
    "        [m - k, N + k - n - m]\n",
    "    ])\n",
    "\n",
    "    oddsratio, pval = fisher_exact(table)\n",
    "    return pval"
   ]
  },
  {
   "cell_type": "markdown",
   "metadata": {},
   "source": [
    "把每個 GO term 和相對應的 Gene Set 一個一個放進 ```manual_ORA``` ，並記錄回傳的p-value"
   ]
  },
  {
   "cell_type": "code",
   "execution_count": 78,
   "metadata": {},
   "outputs": [],
   "source": [
    "query_set = set(query_list)\n",
    "pvalues = {}\n",
    "for term, ids in bp_term2id.items():\n",
    "    gene_set = set(ids)\n",
    "    pval = manual_ORA(query_set, gene_set)\n",
    "    pvalues[term] = pval"
   ]
  },
  {
   "cell_type": "markdown",
   "metadata": {},
   "source": [
    "這裏是用去校正p-values以得到比較嚴格的p-value數值。"
   ]
  },
  {
   "cell_type": "code",
   "execution_count": 93,
   "metadata": {},
   "outputs": [],
   "source": [
    "from statsmodels.stats.multitest import multipletests\n",
    "flat_pvalues = [(term, p) for term, p in pvalues.items()]\n",
    "terms = [x[0] for x in flat_pvalues]\n",
    "pvals = [x[1] for x in flat_pvalues]\n",
    "\n",
    "_, pvals, _, _ = multipletests(pvals, method=\"fdr_bh\", alpha=0.05)"
   ]
  },
  {
   "cell_type": "code",
   "execution_count": 95,
   "metadata": {},
   "outputs": [],
   "source": [
    "manual_sig = {term: p for term, p in zip(terms, pvals) if p < 0.05}"
   ]
  },
  {
   "cell_type": "code",
   "execution_count": 102,
   "metadata": {},
   "outputs": [
    {
     "data": {
      "text/plain": [
       "['G protein-coupled receptor signaling pathway',\n",
       " 'cell adhesion',\n",
       " 'modulation of chemical synaptic transmission',\n",
       " 'ion transmembrane transport',\n",
       " 'positive regulation of synapse assembly',\n",
       " 'protein localization to synapse',\n",
       " 'synapse assembly',\n",
       " 'nervous system development',\n",
       " 'axonogenesis',\n",
       " 'regulation of NMDA receptor activity',\n",
       " 'positive regulation of potassium ion transmembrane transporter activity',\n",
       " 'cell-cell adhesion',\n",
       " 'positive regulation of synaptic transmission, glutamatergic',\n",
       " 'collagen fibril organization',\n",
       " 'heterophilic cell-cell adhesion via plasma membrane cell adhesion molecules',\n",
       " 'adult behavior',\n",
       " 'regulation of presynapse assembly',\n",
       " 'learning',\n",
       " 'positive regulation of axonogenesis',\n",
       " 'calcium-dependent cell-cell adhesion via plasma membrane cell adhesion molecules',\n",
       " 'cell-cell junction assembly',\n",
       " 'neuron cell-cell adhesion',\n",
       " 'homophilic cell adhesion via plasma membrane adhesion molecules',\n",
       " 'positive regulation of excitatory postsynaptic potential',\n",
       " 'regulation of postsynaptic density assembly',\n",
       " 'cell-cell adhesion mediated by cadherin',\n",
       " 'synaptic membrane adhesion',\n",
       " 'muscle fiber development',\n",
       " 'release of sequestered calcium ion into cytosol',\n",
       " 'long-term synaptic potentiation',\n",
       " 'vocalization behavior',\n",
       " 'glutamate receptor signaling pathway',\n",
       " 'positive regulation of transcription from RNA polymerase II promoter in response to hypoxia',\n",
       " 'neuron projection arborization',\n",
       " 'detection of chemical stimulus involved in sensory perception of smell',\n",
       " 'postsynaptic density protein 95 clustering']"
      ]
     },
     "execution_count": 102,
     "metadata": {},
     "output_type": "execute_result"
    }
   ],
   "source": [
    "[obodag[term].name for term in manual_sig.keys()]"
   ]
  },
  {
   "cell_type": "markdown",
   "metadata": {},
   "source": [
    "## Practices\n",
    "\n",
    "* 將manual_ORA的結果整理成表格輸出成csv檔案。\n",
    "* 比較manual_ORA跟goatools的結果。"
   ]
  },
  {
   "cell_type": "markdown",
   "metadata": {},
   "source": [
    "## References\n",
    "\n",
    "* Example adopted from https://github.com/tanghaibao/goatools/blob/master/notebooks/goea_nbt3102.ipynb"
   ]
  }
 ],
 "metadata": {
  "kernelspec": {
   "display_name": "Python 3",
   "language": "python",
   "name": "python3"
  },
  "language_info": {
   "codemirror_mode": {
    "name": "ipython",
    "version": 3
   },
   "file_extension": ".py",
   "mimetype": "text/x-python",
   "name": "python",
   "nbconvert_exporter": "python",
   "pygments_lexer": "ipython3",
   "version": "3.8.2"
  }
 },
 "nbformat": 4,
 "nbformat_minor": 4
}
