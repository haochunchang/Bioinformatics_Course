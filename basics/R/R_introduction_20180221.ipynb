{
 "cells": [
  {
   "cell_type": "markdown",
   "metadata": {},
   "source": [
    "---\n",
    "# Bioinformatics - R Introduction\n",
    "* author: \"Wei-Hao, Lee\"\n",
    "* date: \"2/21/2019\"\n",
    "---"
   ]
  },
  {
   "cell_type": "markdown",
   "metadata": {
    "lines_to_next_cell": 0
   },
   "source": [
    "# R 基礎教學\n",
    "## 目錄\n",
    "0. R installation\n",
    "1. 變數 - Variable :\n",
    "    - 變數指派\n",
    "    - 移除變數 \n",
    "    \n",
    "2. 運算子 - Operator :\n",
    "    - Arithmetic Operator\n",
    "    - Logical Operator\n",
    "    \n",
    "3. 變數類型與資料型別 :\n",
    "    * 變數類型\n",
    "        - Numeric\n",
    "        - Integer\n",
    "        - Logical\n",
    "        - Character\n",
    "    * 資料型別\n",
    "        - One Dimension\n",
    "            * Vector\n",
    "            * Factor\n",
    "        - Two Dimension (Next Class)\n",
    "            * Matrix\n",
    "            * Dataframe\n",
    "        - Multi-Dimension (Next Class)\n",
    "            * List\n",
    "4. 流程控制(if)\n",
    "5. 迴圈(for)\n",
    "    * 基礎操作\n",
    "    * 流程控制搭配`break`和`next`\n",
    "6. Practice\n",
    "\n",
    "***\n",
    "\n",
    "### 0. R installation\n",
    "*R installation tutorial* : [輕鬆學習R語言](http://www.learn-r-the-easy-way.tw/chapters/2) <br />\n",
    "而這個網頁也會是我們第一堂以及第二堂的參考資料，如果大家對於上課內容有疑惑的也可以到這邊參考。\n",
    "<br />\n",
    "\n",
    "*助教的github* : [Go to github](https://github.com/Wei0612/107-2_Bioinformatics) <br />\n",
    "這邊也會放入上課的講義，同時也會把上課操作的程式放在這裡提供大家參考，如果有問題也可以在issue中提問。\n",
    "\n",
    "***\n",
    "\n",
    "### 1. 變數 - Variable\n",
    "變數主要用來存取任何合法資料，使用者可以方便地使用變數名稱來獲取或者使用資料。"
   ]
  },
  {
   "cell_type": "code",
   "execution_count": null,
   "metadata": {
    "lines_to_next_cell": 0
   },
   "outputs": [],
   "source": [
    "# 將\"偉豪\"這個資料存入變數 teacher_assistant中\n",
    "teacher_assistant <- \"偉豪\"\n",
    "\n",
    "# 我們就可以利用 teacher_assistant 這個變數來獲取裡面的資料\n",
    "print(teacher_assistant)"
   ]
  },
  {
   "cell_type": "markdown",
   "metadata": {
    "lines_to_next_cell": 0
   },
   "source": [
    "<br />\n",
    "\n",
    "#### 變數指派\n",
    "在上面的程式碼中，可以看到`<-`這個符號。這個符號用於將資料**賦予 (assign)**給變數。以上述的例子，我們將`\"偉豪\"`這串文字賦值給變數`teacher_assistant`中。在其他程式語言中，比較常用`=`當作賦值的符號，而R語言也有支援這種`=`賦值符號。"
   ]
  },
  {
   "cell_type": "code",
   "execution_count": null,
   "metadata": {
    "lines_to_next_cell": 0
   },
   "outputs": [],
   "source": [
    "# R語言中最常使用的方法，也是最道地的用法\n",
    "TA_1 <- \"乃文\"\n",
    "\n",
    "# 在其他程式語言中賦值的方法，在許多時候仍可以看到。\n",
    "TA_2 = \"嘉琪\"\n",
    "\n",
    "# 也是賦值的方法之一，但極不推薦使用。\n",
    "\"漢萱\" -> TA_3\n",
    "\n",
    "cat(TA_1, TA_2, TA_3)"
   ]
  },
  {
   "cell_type": "markdown",
   "metadata": {
    "lines_to_next_cell": 0
   },
   "source": [
    "<br />\n",
    "\n",
    "#### 移除變數\n",
    "當變數或者資料不再需要使用時，我們可以移除變數，讓這些資料不佔用電腦的記憶體。我們可以使用`rm()`這個函式將變數以及內部的資料給刪除。"
   ]
  },
  {
   "cell_type": "code",
   "execution_count": null,
   "metadata": {
    "error": true,
    "lines_to_next_cell": 0
   },
   "outputs": [],
   "source": [
    "TA_4 <- \"玉潔\"\n",
    "print(TA_4)\n",
    "\n",
    "# 當變數 TA_4 不再需要使用時，可以將它刪除\n",
    "rm(TA_4)\n",
    "\n",
    "# 若再次呼叫變數 TA_4 則會得到下方的警告\n",
    "TA_4"
   ]
  },
  {
   "cell_type": "markdown",
   "metadata": {
    "lines_to_next_cell": 0
   },
   "source": [
    "<br />\n",
    "\n",
    "#### 變數命名\n",
    "變數在命名，盡量以明確為主要的命名方式，不要以代號的形式作為變數名稱。為了程式的可讀性，我們會盡量在命名時花點心思，讓我們日後再次編輯程式時，不會感到困惑。"
   ]
  },
  {
   "cell_type": "code",
   "execution_count": null,
   "metadata": {
    "lines_to_next_cell": 0
   },
   "outputs": [],
   "source": [
    "# 最不推薦的方式，更不要以a,b,c,d為順序去做命名\n",
    "a <- \"MAPKKK\"\n",
    "\n",
    "# 明確的指出 \"TP53\" 是我們主要的目標基因\n",
    "target_gene <- \"TP53\""
   ]
  },
  {
   "cell_type": "markdown",
   "metadata": {
    "lines_to_next_cell": 0
   },
   "source": [
    "<br />\n",
    "\n",
    "***\n",
    "\n",
    "### 2. 運算子 - Operator\n",
    "#### 算術運算子 - Arithmetic Operator\n",
    "算術運算子就是我們幼稚園教的加減乘除`+`、`-`、`*`、`/`。而R語言中有提供更多的算術運算子像是次方`^` or `**` 以及獲取餘數`%%`。*(補充說明：在不同程式語言中，他們有各自定義的運算子，即使符號相同其代表的意義也不同，所以在使用不同程式語言時不妨看看其運算子的定義)*"
   ]
  },
  {
   "cell_type": "code",
   "execution_count": null,
   "metadata": {
    "error": true,
    "lines_to_next_cell": 0
   },
   "outputs": [],
   "source": [
    "x <- 4\n",
    "y <- 3\n",
    "\n",
    "# 4 + 3\n",
    "x + y\n",
    "# 4 - 3\n",
    "x - y\n",
    "# 4 * 3\n",
    "x * y \n",
    "# 4 / 3\n",
    "x / y\n",
    "# 4 / 3 = 3...1 取餘數 1\n",
    "x %% y \n",
    "# 4 * 4 + 3 * 3 = 25\n",
    "x^2 + y**2"
   ]
  },
  {
   "cell_type": "markdown",
   "metadata": {
    "lines_to_next_cell": 0
   },
   "source": [
    "*補充說明：以次方為例，python中`^`是 bitwise operator，而非代表次方。另外在其他程式語言像Java中並沒有支援`**` or `^`等運算子*\n",
    "\n",
    "<br />\n",
    "\n",
    "#### 邏輯運算子 - Logical Operator\n",
    "邏輯運算子包含大於`>`、小於`<`、大於等於`>=`、小於等於`<=`、等於`==`、不等於`!=`、交集`&&`、聯集`||`。透過兩者數值的比較之後告訴你布林值(boolean：TRUE or FALSE)。"
   ]
  },
  {
   "cell_type": "code",
   "execution_count": null,
   "metadata": {},
   "outputs": [],
   "source": [
    "weight_a <- 100\n",
    "weight_b <- 20\n",
    "\n",
    "# 100 > 20 : TRUE\n",
    "weight_a > weight_b\n",
    "# 100 < 20: FALSE\n",
    "weight_a < weight_b\n",
    "# 100 >= 20: TRUE\n",
    "weight_a >= weight_b\n",
    "# 100 <= 20: FALSE\n",
    "weight_a <= weight_b\n",
    "# 100 == 20: FALSE\n",
    "weight_a == weight_b\n",
    "# 100 != 20: TRUE\n",
    "weight_a != weight_b\n",
    "# 兩個敘述都為 TRUE 時，才會回傳 TRUE\n",
    "# 若其中一者為 FALSE 時，則回傳 FALSE\n",
    "\n",
    "# 100 > 30 and 20 < 200 : TRUE\n",
    "weight_a > 30 && weight_b < 200\n",
    "# 100 < 30 and 20 < 200 : FALSE\n",
    "weight_a < 30 && weight_b < 200\n",
    "# 其中一個敘述為 TRUE 則不管另一個是否為真都會回傳 TRUE\n",
    "\n",
    "# 100 < 30 or 20 < 200 : TRUE\n",
    "weight_a < 30 || weight_b < 200"
   ]
  },
  {
   "cell_type": "markdown",
   "metadata": {
    "lines_to_next_cell": 0
   },
   "source": [
    "<br />\n",
    "\n",
    "***\n",
    "\n",
    "### 3. 變數類型與資料型別 - Data Type\n",
    "在上述的舉例中我們並沒有明確告訴你們資料的**類型或型別(type)**，因為我們可以一眼看出他是文字還是數值，但電腦並無法直接判斷，因此我們需要告訴他是什麼類型。然而現今許多程式語言都具有自動判斷的功能，因此有時候我們就會忽略掉變數的類型，但是變數的型別在某些時候相當的重要，因此我們需要認識一些基本的資料型別。\n",
    "\n",
    "<br />\n",
    "\n",
    "#### 變數類型\n",
    "我們可以利用函式`class()`查詢變數的類型。"
   ]
  },
  {
   "cell_type": "code",
   "execution_count": null,
   "metadata": {},
   "outputs": [],
   "source": [
    "class(\"偉豪\")\n",
    "class(30)\n",
    "# 留意此處的 30 有加雙引號\n",
    "class(\"30\")"
   ]
  },
  {
   "cell_type": "markdown",
   "metadata": {
    "lines_to_next_cell": 0
   },
   "source": [
    "<br />\n",
    "\n",
    "##### Numeric\n",
    "在R語言中，任何整數或者小數(浮點數)都會直接歸類為`numeric`"
   ]
  },
  {
   "cell_type": "code",
   "execution_count": null,
   "metadata": {
    "lines_to_next_cell": 0
   },
   "outputs": [],
   "source": [
    "# 當我們輸入整數時\n",
    "right_angle <- 90\n",
    "class(right_angle)\n",
    "\n",
    "# 當我們輸入小數時\n",
    "angle <- 24.5\n",
    "class(angle)"
   ]
  },
  {
   "cell_type": "markdown",
   "metadata": {
    "lines_to_next_cell": 0
   },
   "source": [
    "*補充說明：在其他程式語言中，整數(integer)和浮點數(float)是兩種不同的資料型別，為什麽要區別主要原因是不同的資料型別會戰有不同的記憶體空間。*\n",
    "\n",
    "<br />\n",
    "\n",
    "##### Integer\n",
    "在R語言中並不會常使用整數這個型別，主要原因是numeric已經有包含整數的運算，所以無須特別將`numeric`轉成`integer`。但在其他程式語言像:C, C++, Java都會時常使用整數型別，因此特別介紹。"
   ]
  },
  {
   "cell_type": "code",
   "execution_count": null,
   "metadata": {},
   "outputs": [],
   "source": [
    "# 要宣告成整數型態要在整數後面加上\"L\"\n",
    "age <- 24L\n",
    "class(age)\n",
    "\n",
    "# 另一種方法\n",
    "age <- as.integer(24)\n",
    "class(age)"
   ]
  },
  {
   "cell_type": "markdown",
   "metadata": {
    "lines_to_next_cell": 0
   },
   "source": [
    "<br />\n",
    "\n",
    "##### Logical\n",
    "在所有語言中都會有布林值(boolean)，而布林值其實就是`TRUE`和`FALSE`。在其他語言中，比較常看到`boolean`或`bool`代表其型態。在R語言中則是使用`logical`代表了是與否。布林值在流程控制中相當的重要，而且時常搭配邏輯運算子去做真假值的判斷。"
   ]
  },
  {
   "cell_type": "code",
   "execution_count": null,
   "metadata": {
    "lines_to_next_cell": 0
   },
   "outputs": [],
   "source": [
    "isGameOver <- TRUE\n",
    "class(isGameOver)\n",
    "\n",
    "isTimeOut <- FALSE\n",
    "class(isTimeOut)\n",
    "\n",
    "# 也可以只使用 T or F 代表 TRUE and FALSE\n",
    "isStupid <- F\n",
    "isHarmful <- T\n",
    "\n",
    "cat(isStupid, isHarmful)"
   ]
  },
  {
   "cell_type": "markdown",
   "metadata": {
    "lines_to_next_cell": 0
   },
   "source": [
    "*補充說明:在許多程式語言中，整數0代表FALSE，大於零的整數皆代表TRUE*\n",
    "\n",
    "<br />\n",
    "\n",
    "##### Character\n",
    "Character其實就是我們熟知的文字，當我們要告訴電腦我是要輸入數字還是文字時，我們需要加上單引號('')或者雙引號(\"\")就能代表我要輸入的是文字。"
   ]
  },
  {
   "cell_type": "code",
   "execution_count": null,
   "metadata": {
    "lines_to_next_cell": 0
   },
   "outputs": [],
   "source": [
    "gene_length <- \"2500\"\n",
    "class(gene_length)\n",
    "\n",
    "gene_length <- 2500\n",
    "class(gene_length)\n",
    "\n",
    "teacher_assistant <- 'Wei-Hao'\n",
    "class(teacher_assistant)"
   ]
  },
  {
   "cell_type": "markdown",
   "metadata": {
    "lines_to_next_cell": 0
   },
   "source": [
    "*補充說明：在其他程式語言中，其實文字可以細分為字串(string)以及字元(character)，兩者代表著不同的資料型態，也因為有兩種不同的型態，通常字元會使用單引號('a')而字串會使用雙引號(\"Wei-Hao\")。*\n",
    "\n",
    "<br />\n",
    "\n",
    "#### 資料型別 -- One Dimension\n",
    "這別雖說是資料型別，其實也可以視為變數型別，但他只是含有許多資料的型別，像是我們知道的向量，他就是含有許多數值的一個資料型別，但細看他還是由最基本的數值所組成的大型別。\n",
    "\n",
    "<br />\n",
    "\n",
    "##### Vector\n",
    "vector就是向量，他可以包含許多的數值或者文字，是一個相當常用的類型。在宣告向量時我們會使用`c()`將內容物給框住，請看下方範例。"
   ]
  },
  {
   "cell_type": "code",
   "execution_count": null,
   "metadata": {
    "lines_to_next_cell": 0
   },
   "outputs": [],
   "source": [
    "edges <- c(3,4,5)\n",
    "print(edges)"
   ]
  },
  {
   "cell_type": "markdown",
   "metadata": {
    "lines_to_next_cell": 0
   },
   "source": [
    "我們可以利用索引(index)去搜索你像要看的第幾個元素，其搜索指令為`[index]`，index的範圍由1到向量的長度。"
   ]
  },
  {
   "cell_type": "code",
   "execution_count": null,
   "metadata": {
    "lines_to_next_cell": 0
   },
   "outputs": [],
   "source": [
    "# series is a vector which contains 1 to 9\n",
    "series <- c(1,2,3,4,5,6,7,8,9)\n",
    "print(series)\n",
    "\n",
    "# using [index] to search nth elements in the vector\n",
    "print(series[5])\n",
    "\n",
    "# using length() function to get length of vector\n",
    "length_of_series <- length(series)\n",
    "print(length_of_series)\n",
    "\n",
    "# moreover, you can search part of vector using \":\"\n",
    "series[3:length_of_series]"
   ]
  },
  {
   "cell_type": "markdown",
   "metadata": {
    "lines_to_next_cell": 0
   },
   "source": [
    "值得一提，當我們故意在向量中同時寫入數值以及文字或布林值，會發生什麼事情呢？"
   ]
  },
  {
   "cell_type": "code",
   "execution_count": null,
   "metadata": {
    "lines_to_next_cell": 0
   },
   "outputs": [],
   "source": [
    "# 會被統一的轉成文字類型\n",
    "information <- c(\"Wei-Hao\", 24, TRUE)\n",
    "print(information)\n",
    "\n",
    "# information 中的第二個元素24被轉成了character\n",
    "class(information[2])"
   ]
  },
  {
   "cell_type": "markdown",
   "metadata": {
    "lines_to_next_cell": 0
   },
   "source": [
    "更多的向量操作會在下一堂課中進行操作。\n",
    "\n",
    "<br />\n",
    "\n",
    "##### Factor\n",
    "因素向量，他是一種相當特別的型別，有別於向量，他另外帶有曾級(Levels)的額外資訊在內。"
   ]
  },
  {
   "cell_type": "code",
   "execution_count": null,
   "metadata": {
    "lines_to_next_cell": 0
   },
   "outputs": [],
   "source": [
    "severity_vector <- c(\"normal\", \"stage i\", \"stage ii\", \"stage iii\", \"stage iv\")\n",
    "print(severity_vector)\n",
    "\n",
    "# 留意輸出結果的資訊多了一欄levels\n",
    "severity_factor <- factor(severity_vector)\n",
    "print(severity_factor)\n",
    "\n",
    "# 此時我們可以而外加入一些參數，告訴電腦嚴重的程度，留意輸出結果\n",
    "severity_factor <- factor(severity_vector, ordered = TRUE,\n",
    "                          levels = c(\"normal\", \"stage i\", \"stage ii\", \"stage iii\", \"stage iv\"))\n",
    "print(severity_factor)\n",
    "\n",
    "# 假設我們沒有給予levels的資訊，但告訴電腦我們要有程度的排名，他會按照字母順序幫你做排序\n",
    "cancer_type <- c(\"Lung\", \"Breast\", \"Brain\", \"Colorectal\")\n",
    "cancer_factor <- factor(cancer_type, ordered = TRUE)\n",
    "print(cancer_factor)"
   ]
  },
  {
   "cell_type": "markdown",
   "metadata": {
    "lines_to_next_cell": 0
   },
   "source": [
    "factor是一個相對難理解以及操作的資料型態，因此通常會使用向量，如果有需要時再轉為因素向量，在我們後續課程中會使用到因素向量做繪圖以及基因表象量差異計算。\n",
    "\n",
    "***\n",
    "\n",
    "### 4. 流程控制 (Control flow)\n",
    "流程控制主要用途就是要來判斷是否該執行以下的程式碼，因此需要給予至少一個條件式或布林值，而在程式語言中最常使用的就是if或者if ... else 或者當條件多個時可以使用 if ... else if ... else。其實if...else。"
   ]
  },
  {
   "cell_type": "code",
   "execution_count": null,
   "metadata": {},
   "outputs": [],
   "source": [
    "age <- 13\n",
    "\n",
    "# 年齡是否大於18歲\n",
    "isOver_18 <- age >= 18\n",
    "if (isOver_18) {\n",
    "    # 如果大於等於18歲就會執行 {} 內的程式\n",
    "    print(\"歡迎觀賞\")\n",
    "}\n",
    "\n",
    "# 由於isOver_18判斷為FALSE所以不會執行內部程式\n",
    "print(isOver_18)\n",
    "\n",
    "# five years later\n",
    "age <- age + 5\n",
    "\n",
    "# 年齡是否大於18歲\n",
    "if (age >= 18) { \n",
    "    # 如果有大於等於18就會執行 {} 內的程式\n",
    "    print(\"歡迎觀看\")\n",
    "} else {\n",
    "    # 如果未滿十八則會執行 else 後面 {} 內的程式\n",
    "    print(\"禁止觀看\")\n",
    "}\n",
    "\n",
    "# sixty years later\n",
    "age <- age + 60\n",
    "\n",
    "# 年齡是否大於18歲且小於六十歲\n",
    "if (age >= 18 && age < 60) { \n",
    "    # 如果有大於等於18且小於60就會執行 {} 內的程式\n",
    "    print(\"歡迎觀看\")\n",
    "} else if (age >= 60){ # 檢查年紀是否超過60\n",
    "    # 如果大於60歲則會執行 else if 後面 {} 內的程式\n",
    "    print(\"太過刺激請勿觀看\")\n",
    "} else {\n",
    "    # 當 age >= 18 和 age >= 60 都為FALSE的時候，就會最後else的程式內容\n",
    "    print(\"禁止觀看\")\n",
    "}\n",
    "\n",
    "# 改寫上方的程式碼，利用巢狀結構來改寫\n",
    "if (age >= 18) {\n",
    "    if (age >= 60) {\n",
    "        print(\"太過刺激請勿觀看\")\n",
    "    } else {\n",
    "        print(\"歡迎觀看\")\n",
    "    }\n",
    "} else {\n",
    "    print(\"禁止觀看\")\n",
    "}"
   ]
  },
  {
   "cell_type": "markdown",
   "metadata": {
    "lines_to_next_cell": 0
   },
   "source": [
    "***\n",
    "\n",
    "### 5. 迴圈 (loop)\n",
    "#### 基本操作\n",
    "迴圈就是讓電腦不斷地做重複的事情，直到條件達成。"
   ]
  },
  {
   "cell_type": "code",
   "execution_count": null,
   "metadata": {
    "lines_to_next_cell": 0
   },
   "outputs": [],
   "source": [
    "# 產生1到10的序列\n",
    "one_to_ten <- 1:10\n",
    "\n",
    "# 利用for迴圈印出1到10\n",
    "for (i in one_to_ten) {\n",
    "    print(i)\n",
    "}"
   ]
  },
  {
   "cell_type": "markdown",
   "metadata": {
    "lines_to_next_cell": 0
   },
   "source": [
    "值得留意的是R語言的for迴圈通常需要給定一個可以迭代的物件像是向量，讓他可以不斷的拜訪內部的成員。"
   ]
  },
  {
   "cell_type": "code",
   "execution_count": null,
   "metadata": {
    "lines_to_next_cell": 0
   },
   "outputs": [],
   "source": [
    "# 如果想要找找看向量中是否有某個特定數值或文字該怎麼辦\n",
    "\n",
    "# 產生1到5的序列\n",
    "one_to_twenty <- 1:5\n",
    "\n",
    "# 假設我們要找找看裡面是否有3\n",
    "for(number in one_to_twenty) {\n",
    "    if (number == 3) {\n",
    "        cat(number, \":\",  \"我找到3了\\n\")\n",
    "    } else {\n",
    "        cat(number, \":\", \"還沒找到\\n\")\n",
    "    }\n",
    "}"
   ]
  },
  {
   "cell_type": "markdown",
   "metadata": {
    "lines_to_next_cell": 0
   },
   "source": [
    "<br />\n",
    "\n",
    "#### 流程控制搭配`break`和`next`\n",
    "在迴圈中，有時候我們會碰到一些條件，讓我們想要跳脫迴圈或者忽略掉它，因此有了`break`和`next`這兩個關鍵字"
   ]
  },
  {
   "cell_type": "code",
   "execution_count": null,
   "metadata": {
    "lines_to_next_cell": 0
   },
   "outputs": [],
   "source": [
    "# break 可以使迴圈跳出，但只會跳出一層\n",
    "for (i in 1:10) {\n",
    "    # 當i==5的時候會跳出此迴圈\n",
    "    if (i == 5) {\n",
    "        break\n",
    "    }\n",
    "    print(i)\n",
    "}\n",
    "\n",
    "# nested for loop with break\n",
    "for (i in 1:3) {\n",
    "    for (j in 4:6) {\n",
    "        if (j == 5) {\n",
    "            break\n",
    "        }\n",
    "        cat(i, \"-\", j, \"\\n\")\n",
    "    }\n",
    "}\n",
    "\n",
    "# next 可以使迴圈跳過後續要做的程式，並開始下一輪迴圈\n",
    "for (i in 1:10) {\n",
    "    # 當i==5的時候會略過5\n",
    "    if (i == 5) {\n",
    "        next\n",
    "    }\n",
    "    print(i)\n",
    "}\n",
    "\n",
    "# nested for loop with next\n",
    "for (i in 1:3) {\n",
    "    for (j in 4:6) {\n",
    "        if (j == 5) {\n",
    "            next\n",
    "        }\n",
    "        cat(i, \"-\", j, \"\\n\")\n",
    "    }\n",
    "}"
   ]
  },
  {
   "cell_type": "markdown",
   "metadata": {
    "lines_to_next_cell": 0
   },
   "source": [
    "*補充說明：在其他語言中，continue等同於next的功能*\n",
    "\n",
    "***\n",
    "\n",
    "### Practice\n",
    "#### 簡單. 利用 for loop 做出九九乘法表"
   ]
  },
  {
   "cell_type": "code",
   "execution_count": null,
   "metadata": {
    "hide_input": true,
    "lines_to_next_cell": 0
   },
   "outputs": [],
   "source": [
    "for (i in 1:9)\n",
    "{\n",
    "    for (j in 1:9)\n",
    "    {\n",
    "        cat(i, \"*\", j, \"=\", i*j, \"\\t\")\n",
    "    }\n",
    "    cat(\"\\n\")\n",
    "}"
   ]
  },
  {
   "cell_type": "markdown",
   "metadata": {
    "lines_to_next_cell": 0
   },
   "source": [
    "<br />\n",
    "\n",
    "#### 普通. 利用 if and for 做出三角形 (範例：高度=10)"
   ]
  },
  {
   "cell_type": "code",
   "execution_count": null,
   "metadata": {
    "hide_input": true,
    "lines_to_next_cell": 0
   },
   "outputs": [],
   "source": [
    "n = 10\n",
    "for (row in 1:n)\n",
    "{\n",
    "    for (blank in 1:(n-row+1))\n",
    "    {\n",
    "        cat(\" \", sep=\"\")\n",
    "    }\n",
    "    for (star in 1:(row*2-1))\n",
    "    {\n",
    "        cat(\"*\", sep=\"\")\n",
    "    }\n",
    "    cat(\"\\n\")\n",
    "}\n",
    "    "
   ]
  },
  {
   "cell_type": "markdown",
   "metadata": {
    "lines_to_next_cell": 0
   },
   "source": [
    "<br />\n",
    "\n",
    "#### 普通. 目前生資國只有131, 23, 11, 7, 1等幣值，請寫出一個程式，計算出怎們樣換錢能到最少的紙鈔跟硬幣。ex. 我有2019元，請問怎麼換？"
   ]
  },
  {
   "cell_type": "code",
   "execution_count": null,
   "metadata": {
    "hide_input": true
   },
   "outputs": [],
   "source": [
    "money <- 2019\n",
    "\n",
    "type_of_bills <- c(131, 23, 11, 7, 1)\n",
    "\n",
    "for (bill in type_of_bills) \n",
    "{\n",
    "    if (money == 0) break\n",
    "    num <- as.integer(money/bill)\n",
    "    money <- money%%bill;\n",
    "\n",
    "    cat(\"$\", bill, \"\\t:\\t\", num, \"\\n\", sep=\"\")\n",
    "}"
   ]
  },
  {
   "cell_type": "markdown",
   "metadata": {},
   "source": [
    "***\n",
    "\n",
    "__補充資料  : `print()`, `cat()`, `paste()` 使用方式__\n",
    "`print()`這個函式只能放入一個變數，所以在使用時通常會搭配`paste()`去做使用。而`cat()`這個函式適合多個變數帶入，如果有認真觀察，上面的例子，就會發現我使用上的區別囉！"
   ]
  },
  {
   "cell_type": "code",
   "execution_count": null,
   "metadata": {
    "error": true,
    "lines_to_next_cell": 0
   },
   "outputs": [],
   "source": [
    "teacher_assistant <- \"Wei-Hao Lee\"\n",
    "\n",
    "# 在只有一個變數的情況下 cat() 和 paste() 無差別\n",
    "print(teacher_assistant)\n",
    "cat(teacher_assistant)\n",
    "\n",
    "# 如果給予 print() 超過一個變數時\n",
    "print(teacher_assistant, \"阿不就好棒棒\")"
   ]
  },
  {
   "cell_type": "markdown",
   "metadata": {},
   "source": [
    "<br />\n",
    "\n",
    "因此在多個變數時我們可以使用 `cat()` 或者 `paste()`，然而這兩個函式使用上有些差異，`cat()` 跟 `print()` 很像可以將變數裡的內容印出，但是 `paste()` 則是將變數裡的內容黏在一起形成文字(字串)，通常我們會使用一個變數將合併完的文字儲存，而 `cat()` 則無法用變數把內容保存。"
   ]
  },
  {
   "cell_type": "code",
   "execution_count": null,
   "metadata": {
    "error": true,
    "lines_to_next_cell": 0
   },
   "outputs": [],
   "source": [
    "# cat() 會直接印出來，但是無法用變數將資料保存下來\n",
    "cat(teacher_assistant, \"阿不就好棒棒\")\n",
    "\n",
    "# 不會告訴你錯誤，並且會印出結果\n",
    "statement <- cat(teacher_assistant, \"阿不就好棒棒\")\n",
    "# 但是再次使用變數則會發現是空的\n",
    "print(statement)\n",
    "\n",
    "# paste() 會將變數內的東西合併在一起，並且可以用變數保存\n",
    "paste(teacher_assistant, \"阿不就好棒棒\")\n",
    "\n",
    "statement <- paste(teacher_assistant, \"阿不就好棒棒\")\n",
    "print(statement)"
   ]
  },
  {
   "cell_type": "markdown",
   "metadata": {
    "lines_to_next_cell": 0
   },
   "source": [
    "<br />\n",
    "\n",
    "眼尖的你們是否發現使用`paste()`和`cat()`中間都會有一個空白鍵呢？原因是在函式內部設定已經幫你在文字中加入一個空白鍵，如果我們想要更改的話可以在函式的括弧中加入`sep=\"你想要的任何東西\"`。"
   ]
  },
  {
   "cell_type": "code",
   "execution_count": null,
   "metadata": {},
   "outputs": [],
   "source": [
    "cat(\"HEHE!!\", \"HAHA\", sep=\"***你想要的任何東西***\")\n",
    "paste(\"ID\", \"000123\", sep=\":\")\n",
    "\n",
    "# 常見的特殊字元\"\\n\", \"\\t\"\n",
    "\n",
    "# \"\\n\" newline 換新的一行，是否發現“切斷了”前面有空白呢？為什麼？\n",
    "cat(\"我被\", \"\\n\", \"切斷了\")\n",
    "\n",
    "# \"\\t\" tab鍵的功能\n",
    "cat(\"我被\", \"\\t\", \"拉長了\")"
   ]
  },
  {
   "cell_type": "markdown",
   "metadata": {},
   "source": [
    "***\n",
    "E-mail : steve24563@gmail.com"
   ]
  }
 ],
 "metadata": {
  "jupytext": {
   "cell_metadata_filter": "hide_output,name,hide_input,error,-all",
   "main_language": "R",
   "notebook_metadata_filter": "-all"
  },
  "kernelspec": {
   "display_name": "R",
   "language": "R",
   "name": "ir"
  },
  "language_info": {
   "codemirror_mode": "r",
   "file_extension": ".r",
   "mimetype": "text/x-r-source",
   "name": "R",
   "pygments_lexer": "r",
   "version": "3.6.1"
  }
 },
 "nbformat": 4,
 "nbformat_minor": 2
}
